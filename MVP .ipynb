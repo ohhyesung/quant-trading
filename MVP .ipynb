{
 "cells": [
  {
   "cell_type": "code",
   "execution_count": 1,
   "metadata": {},
   "outputs": [],
   "source": [
    "import pandas as pd\n",
    "import numpy as np\n",
    "from scipy.optimize import minimize"
   ]
  },
  {
   "cell_type": "code",
   "execution_count": 17,
   "metadata": {
    "scrolled": true
   },
   "outputs": [
    {
     "data": {
      "text/html": [
       "<div>\n",
       "<style scoped>\n",
       "    .dataframe tbody tr th:only-of-type {\n",
       "        vertical-align: middle;\n",
       "    }\n",
       "\n",
       "    .dataframe tbody tr th {\n",
       "        vertical-align: top;\n",
       "    }\n",
       "\n",
       "    .dataframe thead th {\n",
       "        text-align: right;\n",
       "    }\n",
       "</style>\n",
       "<table border=\"1\" class=\"dataframe\">\n",
       "  <thead>\n",
       "    <tr style=\"text-align: right;\">\n",
       "      <th></th>\n",
       "      <th>US Large</th>\n",
       "      <th>Europe</th>\n",
       "      <th>Japan</th>\n",
       "      <th>Emerging</th>\n",
       "      <th>US Long Term</th>\n",
       "      <th>US Mid Term</th>\n",
       "      <th>US REITs</th>\n",
       "      <th>International REITs</th>\n",
       "      <th>Gold</th>\n",
       "      <th>Commodities</th>\n",
       "    </tr>\n",
       "  </thead>\n",
       "  <tbody>\n",
       "    <tr>\n",
       "      <td>US Large</td>\n",
       "      <td>0.023252</td>\n",
       "      <td>0.019982</td>\n",
       "      <td>0.017300</td>\n",
       "      <td>0.022822</td>\n",
       "      <td>-0.004060</td>\n",
       "      <td>-0.002021</td>\n",
       "      <td>0.019181</td>\n",
       "      <td>0.012286</td>\n",
       "      <td>-0.000357</td>\n",
       "      <td>0.005273</td>\n",
       "    </tr>\n",
       "    <tr>\n",
       "      <td>Europe</td>\n",
       "      <td>0.019982</td>\n",
       "      <td>0.031276</td>\n",
       "      <td>0.019930</td>\n",
       "      <td>0.028016</td>\n",
       "      <td>-0.005252</td>\n",
       "      <td>-0.002429</td>\n",
       "      <td>0.020870</td>\n",
       "      <td>0.017219</td>\n",
       "      <td>0.002426</td>\n",
       "      <td>0.008212</td>\n",
       "    </tr>\n",
       "    <tr>\n",
       "      <td>Japan</td>\n",
       "      <td>0.017300</td>\n",
       "      <td>0.019930</td>\n",
       "      <td>0.037028</td>\n",
       "      <td>0.024458</td>\n",
       "      <td>-0.003813</td>\n",
       "      <td>-0.001881</td>\n",
       "      <td>0.015824</td>\n",
       "      <td>0.013942</td>\n",
       "      <td>0.002175</td>\n",
       "      <td>0.005775</td>\n",
       "    </tr>\n",
       "    <tr>\n",
       "      <td>Emerging</td>\n",
       "      <td>0.022822</td>\n",
       "      <td>0.028016</td>\n",
       "      <td>0.024458</td>\n",
       "      <td>0.046069</td>\n",
       "      <td>-0.005900</td>\n",
       "      <td>-0.002948</td>\n",
       "      <td>0.026462</td>\n",
       "      <td>0.021058</td>\n",
       "      <td>0.003875</td>\n",
       "      <td>0.010617</td>\n",
       "    </tr>\n",
       "    <tr>\n",
       "      <td>US Long Term</td>\n",
       "      <td>-0.004060</td>\n",
       "      <td>-0.005252</td>\n",
       "      <td>-0.003813</td>\n",
       "      <td>-0.005900</td>\n",
       "      <td>0.010108</td>\n",
       "      <td>0.004733</td>\n",
       "      <td>-0.003653</td>\n",
       "      <td>-0.003573</td>\n",
       "      <td>0.001124</td>\n",
       "      <td>-0.002675</td>\n",
       "    </tr>\n",
       "    <tr>\n",
       "      <td>US Mid Term</td>\n",
       "      <td>-0.002021</td>\n",
       "      <td>-0.002429</td>\n",
       "      <td>-0.001881</td>\n",
       "      <td>-0.002948</td>\n",
       "      <td>0.004733</td>\n",
       "      <td>0.002773</td>\n",
       "      <td>-0.001793</td>\n",
       "      <td>-0.001629</td>\n",
       "      <td>0.000787</td>\n",
       "      <td>-0.001119</td>\n",
       "    </tr>\n",
       "    <tr>\n",
       "      <td>US REITs</td>\n",
       "      <td>0.019181</td>\n",
       "      <td>0.020870</td>\n",
       "      <td>0.015824</td>\n",
       "      <td>0.026462</td>\n",
       "      <td>-0.003653</td>\n",
       "      <td>-0.001793</td>\n",
       "      <td>0.038965</td>\n",
       "      <td>0.016408</td>\n",
       "      <td>0.000774</td>\n",
       "      <td>0.005875</td>\n",
       "    </tr>\n",
       "    <tr>\n",
       "      <td>International REITs</td>\n",
       "      <td>0.012286</td>\n",
       "      <td>0.017219</td>\n",
       "      <td>0.013942</td>\n",
       "      <td>0.021058</td>\n",
       "      <td>-0.003573</td>\n",
       "      <td>-0.001629</td>\n",
       "      <td>0.016408</td>\n",
       "      <td>0.026134</td>\n",
       "      <td>0.002801</td>\n",
       "      <td>0.007066</td>\n",
       "    </tr>\n",
       "    <tr>\n",
       "      <td>Gold</td>\n",
       "      <td>-0.000357</td>\n",
       "      <td>0.002426</td>\n",
       "      <td>0.002175</td>\n",
       "      <td>0.003875</td>\n",
       "      <td>0.001124</td>\n",
       "      <td>0.000787</td>\n",
       "      <td>0.000774</td>\n",
       "      <td>0.002801</td>\n",
       "      <td>0.019020</td>\n",
       "      <td>0.006836</td>\n",
       "    </tr>\n",
       "    <tr>\n",
       "      <td>Commodities</td>\n",
       "      <td>0.005273</td>\n",
       "      <td>0.008212</td>\n",
       "      <td>0.005775</td>\n",
       "      <td>0.010617</td>\n",
       "      <td>-0.002675</td>\n",
       "      <td>-0.001119</td>\n",
       "      <td>0.005875</td>\n",
       "      <td>0.007066</td>\n",
       "      <td>0.006836</td>\n",
       "      <td>0.026368</td>\n",
       "    </tr>\n",
       "  </tbody>\n",
       "</table>\n",
       "</div>"
      ],
      "text/plain": [
       "                     US Large    Europe     Japan  Emerging  US Long Term  \\\n",
       "US Large             0.023252  0.019982  0.017300  0.022822     -0.004060   \n",
       "Europe               0.019982  0.031276  0.019930  0.028016     -0.005252   \n",
       "Japan                0.017300  0.019930  0.037028  0.024458     -0.003813   \n",
       "Emerging             0.022822  0.028016  0.024458  0.046069     -0.005900   \n",
       "US Long Term        -0.004060 -0.005252 -0.003813 -0.005900      0.010108   \n",
       "US Mid Term         -0.002021 -0.002429 -0.001881 -0.002948      0.004733   \n",
       "US REITs             0.019181  0.020870  0.015824  0.026462     -0.003653   \n",
       "International REITs  0.012286  0.017219  0.013942  0.021058     -0.003573   \n",
       "Gold                -0.000357  0.002426  0.002175  0.003875      0.001124   \n",
       "Commodities          0.005273  0.008212  0.005775  0.010617     -0.002675   \n",
       "\n",
       "                     US Mid Term  US REITs  International REITs      Gold  \\\n",
       "US Large               -0.002021  0.019181             0.012286 -0.000357   \n",
       "Europe                 -0.002429  0.020870             0.017219  0.002426   \n",
       "Japan                  -0.001881  0.015824             0.013942  0.002175   \n",
       "Emerging               -0.002948  0.026462             0.021058  0.003875   \n",
       "US Long Term            0.004733 -0.003653            -0.003573  0.001124   \n",
       "US Mid Term             0.002773 -0.001793            -0.001629  0.000787   \n",
       "US REITs               -0.001793  0.038965             0.016408  0.000774   \n",
       "International REITs    -0.001629  0.016408             0.026134  0.002801   \n",
       "Gold                    0.000787  0.000774             0.002801  0.019020   \n",
       "Commodities            -0.001119  0.005875             0.007066  0.006836   \n",
       "\n",
       "                     Commodities  \n",
       "US Large                0.005273  \n",
       "Europe                  0.008212  \n",
       "Japan                   0.005775  \n",
       "Emerging                0.010617  \n",
       "US Long Term           -0.002675  \n",
       "US Mid Term            -0.001119  \n",
       "US REITs                0.005875  \n",
       "International REITs     0.007066  \n",
       "Gold                    0.006836  \n",
       "Commodities             0.026368  "
      ]
     },
     "execution_count": 17,
     "metadata": {},
     "output_type": "execute_result"
    }
   ],
   "source": [
    "##공분산행렬 전처리\n",
    "covmat = pd.read_excel('자산배분 실습.xlsx',\n",
    "                       header = 4,index_col= 1)\n",
    "covmat.drop('Unnamed: 0',axis=1,inplace=True)\n",
    "covmat = covmat.iloc[:10].copy()\n",
    "covmat"
   ]
  },
  {
   "cell_type": "code",
   "execution_count": 18,
   "metadata": {},
   "outputs": [
    {
     "data": {
      "text/plain": [
       "array([[ 0.02325209,  0.01998246,  0.01730011,  0.02282169, -0.00406014,\n",
       "        -0.00202108,  0.01918081,  0.0122861 , -0.00035668,  0.00527258],\n",
       "       [ 0.01998246,  0.03127645,  0.01993007,  0.02801568, -0.00525241,\n",
       "        -0.0024292 ,  0.02087001,  0.01721907,  0.00242641,  0.00821205],\n",
       "       [ 0.01730011,  0.01993007,  0.03702766,  0.02445774, -0.00381302,\n",
       "        -0.00188129,  0.01582384,  0.01394245,  0.00217481,  0.00577538],\n",
       "       [ 0.02282169,  0.02801568,  0.02445774,  0.04606858, -0.00589978,\n",
       "        -0.00294834,  0.02646184,  0.02105786,  0.00387464,  0.01061698],\n",
       "       [-0.00406014, -0.00525241, -0.00381302, -0.00589978,  0.01010761,\n",
       "         0.00473312, -0.0036533 , -0.00357252,  0.00112417, -0.00267518],\n",
       "       [-0.00202108, -0.0024292 , -0.00188129, -0.00294834,  0.00473312,\n",
       "         0.00277323, -0.00179335, -0.00162941,  0.00078697, -0.00111948],\n",
       "       [ 0.01918081,  0.02087001,  0.01582384,  0.02646184, -0.0036533 ,\n",
       "        -0.00179335,  0.0389648 ,  0.01640805,  0.00077441,  0.00587453],\n",
       "       [ 0.0122861 ,  0.01721907,  0.01394245,  0.02105786, -0.00357252,\n",
       "        -0.00162941,  0.01640805,  0.02613433,  0.00280101,  0.00706562],\n",
       "       [-0.00035668,  0.00242641,  0.00217481,  0.00387463,  0.00112417,\n",
       "         0.00078697,  0.00077441,  0.00280101,  0.01902046,  0.00683584],\n",
       "       [ 0.00527258,  0.00821205,  0.00577538,  0.01061698, -0.00267518,\n",
       "        -0.00111948,  0.00587453,  0.00706562,  0.00683584,  0.02636829]])"
      ]
     },
     "execution_count": 18,
     "metadata": {},
     "output_type": "execute_result"
    }
   ],
   "source": [
    "covmat = covmat.values.copy()\n",
    "covmat"
   ]
  },
  {
   "cell_type": "code",
   "execution_count": 19,
   "metadata": {},
   "outputs": [],
   "source": [
    "def MinVol_objective(x) :\n",
    "        variance = x.dot(covmat).dot(x.T)  ## 여기서 error \n",
    "        sigma = variance ** 0.5\n",
    "        return (sigma)"
   ]
  },
  {
   "cell_type": "code",
   "execution_count": 20,
   "metadata": {},
   "outputs": [],
   "source": [
    "def weight_sum_constraint(x) :\n",
    "        return(x.sum() - 1.0 )"
   ]
  },
  {
   "cell_type": "code",
   "execution_count": 21,
   "metadata": {},
   "outputs": [],
   "source": [
    "def MinVol(covmat, lb, ub) :\n",
    "    x0 = np.repeat(1/covmat.shape[1], covmat.shape[1])  ##1/covmat 이게 무슨의미?\n",
    "    lbound  = np.repeat(lb, covmat.shape[1])\n",
    "    ubound  = np.repeat(ub, covmat.shape[1])\n",
    "    bnds = tuple(zip(lbound, ubound))\n",
    "    \n",
    "    constraints = ({'type': 'eq', 'fun': weight_sum_constraint})\n",
    "    options = {'ftol': 1e-20, 'maxiter': 800}\n",
    "    \n",
    "    result = minimize(fun = MinVol_objective,\n",
    "                      x0 = x0,\n",
    "                      method = 'SLSQP',\n",
    "                      constraints = constraints,\n",
    "                      options = options,\n",
    "                      bounds = bnds)\n",
    "    return(result.x)"
   ]
  },
  {
   "cell_type": "code",
   "execution_count": 26,
   "metadata": {},
   "outputs": [
    {
     "data": {
      "text/plain": [
       "array([0.1, 0.1, 0.1, 0.1, 0.1, 0.1, 0.1, 0.1, 0.1, 0.1])"
      ]
     },
     "execution_count": 26,
     "metadata": {},
     "output_type": "execute_result"
    }
   ],
   "source": [
    "x0 = np.repeat(1/covmat.shape[1], covmat.shape[1]) #가중치 모두 동일하게 equal weight!\n",
    "x0"
   ]
  },
  {
   "cell_type": "code",
   "execution_count": 28,
   "metadata": {},
   "outputs": [
    {
     "data": {
      "text/plain": [
       "((0.05, 0.2),\n",
       " (0.05, 0.2),\n",
       " (0.05, 0.2),\n",
       " (0.05, 0.2),\n",
       " (0.05, 0.2),\n",
       " (0.05, 0.2),\n",
       " (0.05, 0.2),\n",
       " (0.05, 0.2),\n",
       " (0.05, 0.2),\n",
       " (0.05, 0.2))"
      ]
     },
     "execution_count": 28,
     "metadata": {},
     "output_type": "execute_result"
    }
   ],
   "source": [
    "lbound  = np.repeat(0.05, covmat.shape[1])\n",
    "ubound  = np.repeat(0.2, covmat.shape[1])\n",
    "bnds = tuple(zip(lbound, ubound))\n",
    "bnds #가중치 최대 최소 제한"
   ]
  },
  {
   "cell_type": "code",
   "execution_count": 29,
   "metadata": {},
   "outputs": [],
   "source": [
    "constraints = ({'type': 'eq', 'fun': weight_sum_constraint}) #가중치 합이 1\n",
    "options = {'ftol': 1e-20, 'maxiter': 800}"
   ]
  },
  {
   "cell_type": "code",
   "execution_count": null,
   "metadata": {},
   "outputs": [],
   "source": [
    "result = minimize(fun = MinVol_objective,\n",
    "                      x0 = x0,\n",
    "                      method = 'SLSQP',\n",
    "                      constraints = constraints,\n",
    "                      options = options,\n",
    "                      bounds = bnds)"
   ]
  },
  {
   "cell_type": "code",
   "execution_count": 171,
   "metadata": {},
   "outputs": [
    {
     "name": "stdout",
     "output_type": "stream",
     "text": [
      "     fun: 0.06368372536409718\n",
      "     jac: array([0.08264039, 0.10734561, 0.10172827, 0.13701813, 0.02456549,\n",
      "       0.0138894 , 0.10606487, 0.08921534, 0.08264039, 0.08264039])\n",
      " message: 'Positive directional derivative for linesearch'\n",
      "    nfev: 144\n",
      "     nit: 16\n",
      "    njev: 12\n",
      "  status: 8\n",
      " success: False\n",
      "       x: array([0.06319558, 0.05      , 0.05      , 0.05      , 0.2       ,\n",
      "       0.2       , 0.05      , 0.05      , 0.19204934, 0.09475508])\n",
      "****************************************************************************************************\n",
      "weight : [0.06319558 0.05       0.05       0.05       0.2        0.2\n",
      " 0.05       0.05       0.19204934 0.09475508]\n"
     ]
    }
   ],
   "source": [
    "print(result)\n",
    "print('*'*100)\n",
    "print('weight :',result.x)"
   ]
  },
  {
   "cell_type": "code",
   "execution_count": null,
   "metadata": {},
   "outputs": [],
   "source": []
  }
 ],
 "metadata": {
  "kernelspec": {
   "display_name": "Python 3",
   "language": "python",
   "name": "python3"
  },
  "language_info": {
   "codemirror_mode": {
    "name": "ipython",
    "version": 3
   },
   "file_extension": ".py",
   "mimetype": "text/x-python",
   "name": "python",
   "nbconvert_exporter": "python",
   "pygments_lexer": "ipython3",
   "version": "3.7.4"
  },
  "toc": {
   "base_numbering": 1,
   "nav_menu": {},
   "number_sections": true,
   "sideBar": true,
   "skip_h1_title": false,
   "title_cell": "Table of Contents",
   "title_sidebar": "Contents",
   "toc_cell": false,
   "toc_position": {},
   "toc_section_display": true,
   "toc_window_display": false
  },
  "varInspector": {
   "cols": {
    "lenName": 16,
    "lenType": 16,
    "lenVar": 40
   },
   "kernels_config": {
    "python": {
     "delete_cmd_postfix": "",
     "delete_cmd_prefix": "del ",
     "library": "var_list.py",
     "varRefreshCmd": "print(var_dic_list())"
    },
    "r": {
     "delete_cmd_postfix": ") ",
     "delete_cmd_prefix": "rm(",
     "library": "var_list.r",
     "varRefreshCmd": "cat(var_dic_list()) "
    }
   },
   "types_to_exclude": [
    "module",
    "function",
    "builtin_function_or_method",
    "instance",
    "_Feature"
   ],
   "window_display": false
  }
 },
 "nbformat": 4,
 "nbformat_minor": 2
}
